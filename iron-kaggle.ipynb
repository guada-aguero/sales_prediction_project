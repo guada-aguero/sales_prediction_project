{
 "cells": [
  {
   "cell_type": "code",
   "execution_count": 80,
   "metadata": {},
   "outputs": [],
   "source": [
    "import pandas as pd\n",
    "import numpy as np\n",
    "import matplotlib.pyplot as plt\n",
    "import seaborn as sn\n",
    "import math\n",
    "import xgboost as xgb\n",
    "\n",
    "\n",
    "from sklearn.model_selection import train_test_split\n",
    "from sklearn.linear_model import LinearRegression\n",
    "from sklearn.preprocessing import PolynomialFeatures, StandardScaler\n",
    "from sklearn.ensemble import BaggingRegressor\n",
    "from sklearn.ensemble import RandomForestRegressor\n",
    "from sklearn.ensemble import AdaBoostRegressor\n",
    "from sklearn.model_selection import cross_val_score\n",
    "from sklearn.tree import DecisionTreeRegressor\n",
    "from sklearn.metrics import r2_score\n",
    "from sklearn.metrics import mean_squared_error\n",
    "from sklearn.preprocessing import LabelEncoder\n",
    "from sklearn.ensemble import GradientBoostingRegressor\n",
    "from sklearn.ensemble import AdaBoostRegressor\n",
    "\n",
    "import pickle"
   ]
  },
  {
   "cell_type": "code",
   "execution_count": 81,
   "metadata": {},
   "outputs": [
    {
     "name": "stdout",
     "output_type": "stream",
     "text": [
      "2.2.2\n"
     ]
    }
   ],
   "source": [
    "print(pd.__version__)\n",
    "stores = pd.read_csv(r'C:\\Users\\guada\\OneDrive\\Documents\\Ironhack\\week18\\day03\\sales.csv')\n"
   ]
  },
  {
   "cell_type": "markdown",
   "metadata": {},
   "source": [
    "# 1. Load and Explore the Dataset\n"
   ]
  },
  {
   "cell_type": "code",
   "execution_count": 82,
   "metadata": {},
   "outputs": [
    {
     "data": {
      "text/html": [
       "<div>\n",
       "<style scoped>\n",
       "    .dataframe tbody tr th:only-of-type {\n",
       "        vertical-align: middle;\n",
       "    }\n",
       "\n",
       "    .dataframe tbody tr th {\n",
       "        vertical-align: top;\n",
       "    }\n",
       "\n",
       "    .dataframe thead th {\n",
       "        text-align: right;\n",
       "    }\n",
       "</style>\n",
       "<table border=\"1\" class=\"dataframe\">\n",
       "  <thead>\n",
       "    <tr style=\"text-align: right;\">\n",
       "      <th></th>\n",
       "      <th>Unnamed: 0</th>\n",
       "      <th>store_ID</th>\n",
       "      <th>day_of_week</th>\n",
       "      <th>date</th>\n",
       "      <th>nb_customers_on_day</th>\n",
       "      <th>open</th>\n",
       "      <th>promotion</th>\n",
       "      <th>state_holiday</th>\n",
       "      <th>school_holiday</th>\n",
       "      <th>sales</th>\n",
       "    </tr>\n",
       "  </thead>\n",
       "  <tbody>\n",
       "    <tr>\n",
       "      <th>0</th>\n",
       "      <td>425390</td>\n",
       "      <td>366</td>\n",
       "      <td>4</td>\n",
       "      <td>2013-04-18</td>\n",
       "      <td>517</td>\n",
       "      <td>1</td>\n",
       "      <td>0</td>\n",
       "      <td>0</td>\n",
       "      <td>0</td>\n",
       "      <td>4422</td>\n",
       "    </tr>\n",
       "    <tr>\n",
       "      <th>1</th>\n",
       "      <td>291687</td>\n",
       "      <td>394</td>\n",
       "      <td>6</td>\n",
       "      <td>2015-04-11</td>\n",
       "      <td>694</td>\n",
       "      <td>1</td>\n",
       "      <td>0</td>\n",
       "      <td>0</td>\n",
       "      <td>0</td>\n",
       "      <td>8297</td>\n",
       "    </tr>\n",
       "    <tr>\n",
       "      <th>2</th>\n",
       "      <td>411278</td>\n",
       "      <td>807</td>\n",
       "      <td>4</td>\n",
       "      <td>2013-08-29</td>\n",
       "      <td>970</td>\n",
       "      <td>1</td>\n",
       "      <td>1</td>\n",
       "      <td>0</td>\n",
       "      <td>0</td>\n",
       "      <td>9729</td>\n",
       "    </tr>\n",
       "    <tr>\n",
       "      <th>3</th>\n",
       "      <td>664714</td>\n",
       "      <td>802</td>\n",
       "      <td>2</td>\n",
       "      <td>2013-05-28</td>\n",
       "      <td>473</td>\n",
       "      <td>1</td>\n",
       "      <td>1</td>\n",
       "      <td>0</td>\n",
       "      <td>0</td>\n",
       "      <td>6513</td>\n",
       "    </tr>\n",
       "    <tr>\n",
       "      <th>4</th>\n",
       "      <td>540835</td>\n",
       "      <td>726</td>\n",
       "      <td>4</td>\n",
       "      <td>2013-10-10</td>\n",
       "      <td>1068</td>\n",
       "      <td>1</td>\n",
       "      <td>1</td>\n",
       "      <td>0</td>\n",
       "      <td>0</td>\n",
       "      <td>10882</td>\n",
       "    </tr>\n",
       "  </tbody>\n",
       "</table>\n",
       "</div>"
      ],
      "text/plain": [
       "   Unnamed: 0  store_ID  day_of_week        date  nb_customers_on_day  open  \\\n",
       "0      425390       366            4  2013-04-18                  517     1   \n",
       "1      291687       394            6  2015-04-11                  694     1   \n",
       "2      411278       807            4  2013-08-29                  970     1   \n",
       "3      664714       802            2  2013-05-28                  473     1   \n",
       "4      540835       726            4  2013-10-10                 1068     1   \n",
       "\n",
       "   promotion state_holiday  school_holiday  sales  \n",
       "0          0             0               0   4422  \n",
       "1          0             0               0   8297  \n",
       "2          1             0               0   9729  \n",
       "3          1             0               0   6513  \n",
       "4          1             0               0  10882  "
      ]
     },
     "execution_count": 82,
     "metadata": {},
     "output_type": "execute_result"
    }
   ],
   "source": [
    "stores.head()"
   ]
  },
  {
   "cell_type": "code",
   "execution_count": 83,
   "metadata": {},
   "outputs": [
    {
     "name": "stdout",
     "output_type": "stream",
     "text": [
      "<class 'pandas.core.frame.DataFrame'>\n",
      "RangeIndex: 640840 entries, 0 to 640839\n",
      "Data columns (total 10 columns):\n",
      " #   Column               Non-Null Count   Dtype \n",
      "---  ------               --------------   ----- \n",
      " 0   Unnamed: 0           640840 non-null  int64 \n",
      " 1   store_ID             640840 non-null  int64 \n",
      " 2   day_of_week          640840 non-null  int64 \n",
      " 3   date                 640840 non-null  object\n",
      " 4   nb_customers_on_day  640840 non-null  int64 \n",
      " 5   open                 640840 non-null  int64 \n",
      " 6   promotion            640840 non-null  int64 \n",
      " 7   state_holiday        640840 non-null  object\n",
      " 8   school_holiday       640840 non-null  int64 \n",
      " 9   sales                640840 non-null  int64 \n",
      "dtypes: int64(8), object(2)\n",
      "memory usage: 48.9+ MB\n"
     ]
    }
   ],
   "source": [
    "stores.info()"
   ]
  },
  {
   "cell_type": "markdown",
   "metadata": {},
   "source": [
    "# 2. Data cleaning & Feature engineering"
   ]
  },
  {
   "cell_type": "code",
   "execution_count": 84,
   "metadata": {},
   "outputs": [
    {
     "data": {
      "text/plain": [
       "Unnamed: 0              int64\n",
       "store_ID                int64\n",
       "day_of_week             int64\n",
       "date                   object\n",
       "nb_customers_on_day     int64\n",
       "open                    int64\n",
       "promotion               int64\n",
       "state_holiday          object\n",
       "school_holiday          int64\n",
       "sales                   int64\n",
       "dtype: object"
      ]
     },
     "execution_count": 84,
     "metadata": {},
     "output_type": "execute_result"
    }
   ],
   "source": [
    "stores.dtypes\n"
   ]
  },
  {
   "cell_type": "code",
   "execution_count": 85,
   "metadata": {},
   "outputs": [],
   "source": [
    "#Change dtype of 'date' column from object to integer\n",
    "\n",
    "stores['date'] = pd.to_datetime(stores['date'],format='%Y-%m-%d') # Convert the 'Date' column values from string to datetime\n",
    "stores['date'] = stores['date'].apply(lambda x: x.toordinal()) # Convert the datetime values to numeric using toordinal()"
   ]
  },
  {
   "cell_type": "code",
   "execution_count": 86,
   "metadata": {},
   "outputs": [
    {
     "name": "stdout",
     "output_type": "stream",
     "text": [
      "Unique values in 'state_holiday':\n"
     ]
    },
    {
     "data": {
      "text/plain": [
       "array(['0', 'a', 'c', 'b'], dtype=object)"
      ]
     },
     "execution_count": 86,
     "metadata": {},
     "output_type": "execute_result"
    }
   ],
   "source": [
    "# Check the unique values in the 'state_holiday' column\n",
    "print(\"Unique values in 'state_holiday':\")\n",
    "stores['state_holiday'].unique()"
   ]
  },
  {
   "cell_type": "code",
   "execution_count": 87,
   "metadata": {},
   "outputs": [],
   "source": [
    "#Change dtype of 'state_holiday' column from object to integer\n",
    "mapping = {'0': 0, 'a': 1, 'b': 1, 'c': 1}\n",
    "\n",
    "# Apply the mapping to the 'state_holiday' column\n",
    "stores['state_holiday'] = stores['state_holiday'].map(mapping)"
   ]
  },
  {
   "cell_type": "code",
   "execution_count": 88,
   "metadata": {},
   "outputs": [
    {
     "data": {
      "text/plain": [
       "Unnamed: 0             0\n",
       "store_ID               0\n",
       "day_of_week            0\n",
       "date                   0\n",
       "nb_customers_on_day    0\n",
       "open                   0\n",
       "promotion              0\n",
       "state_holiday          0\n",
       "school_holiday         0\n",
       "sales                  0\n",
       "dtype: int64"
      ]
     },
     "execution_count": 88,
     "metadata": {},
     "output_type": "execute_result"
    }
   ],
   "source": [
    "#Check if there is any missing value\n",
    "stores.isna().sum()"
   ]
  },
  {
   "cell_type": "code",
   "execution_count": 89,
   "metadata": {},
   "outputs": [
    {
     "data": {
      "text/plain": [
       "array([0])"
      ]
     },
     "execution_count": 89,
     "metadata": {},
     "output_type": "execute_result"
    }
   ],
   "source": [
    "#check if there is a case where the store is closed but sales are not 0\n",
    "stores[stores[\"open\"]==0][\"sales\"].unique()"
   ]
  },
  {
   "cell_type": "code",
   "execution_count": 79,
   "metadata": {},
   "outputs": [],
   "source": [
    "# above code shows that when the store is closed the sales are always 0"
   ]
  },
  {
   "cell_type": "code",
   "execution_count": 90,
   "metadata": {},
   "outputs": [
    {
     "data": {
      "text/html": [
       "<div>\n",
       "<style scoped>\n",
       "    .dataframe tbody tr th:only-of-type {\n",
       "        vertical-align: middle;\n",
       "    }\n",
       "\n",
       "    .dataframe tbody tr th {\n",
       "        vertical-align: top;\n",
       "    }\n",
       "\n",
       "    .dataframe thead th {\n",
       "        text-align: right;\n",
       "    }\n",
       "</style>\n",
       "<table border=\"1\" class=\"dataframe\">\n",
       "  <thead>\n",
       "    <tr style=\"text-align: right;\">\n",
       "      <th></th>\n",
       "      <th>Unnamed: 0</th>\n",
       "      <th>store_ID</th>\n",
       "      <th>day_of_week</th>\n",
       "      <th>date</th>\n",
       "      <th>nb_customers_on_day</th>\n",
       "      <th>open</th>\n",
       "      <th>promotion</th>\n",
       "      <th>state_holiday</th>\n",
       "      <th>school_holiday</th>\n",
       "      <th>sales</th>\n",
       "    </tr>\n",
       "  </thead>\n",
       "  <tbody>\n",
       "    <tr>\n",
       "      <th>216</th>\n",
       "      <td>11690</td>\n",
       "      <td>676</td>\n",
       "      <td>3</td>\n",
       "      <td>735234</td>\n",
       "      <td>946</td>\n",
       "      <td>1</td>\n",
       "      <td>0</td>\n",
       "      <td>1</td>\n",
       "      <td>1</td>\n",
       "      <td>5755</td>\n",
       "    </tr>\n",
       "    <tr>\n",
       "      <th>1529</th>\n",
       "      <td>105962</td>\n",
       "      <td>582</td>\n",
       "      <td>1</td>\n",
       "      <td>735393</td>\n",
       "      <td>493</td>\n",
       "      <td>1</td>\n",
       "      <td>0</td>\n",
       "      <td>1</td>\n",
       "      <td>0</td>\n",
       "      <td>2146</td>\n",
       "    </tr>\n",
       "    <tr>\n",
       "      <th>1984</th>\n",
       "      <td>582565</td>\n",
       "      <td>178</td>\n",
       "      <td>4</td>\n",
       "      <td>735018</td>\n",
       "      <td>962</td>\n",
       "      <td>1</td>\n",
       "      <td>1</td>\n",
       "      <td>1</td>\n",
       "      <td>0</td>\n",
       "      <td>10796</td>\n",
       "    </tr>\n",
       "    <tr>\n",
       "      <th>6382</th>\n",
       "      <td>567148</td>\n",
       "      <td>780</td>\n",
       "      <td>4</td>\n",
       "      <td>735753</td>\n",
       "      <td>1060</td>\n",
       "      <td>1</td>\n",
       "      <td>1</td>\n",
       "      <td>1</td>\n",
       "      <td>0</td>\n",
       "      <td>8646</td>\n",
       "    </tr>\n",
       "    <tr>\n",
       "      <th>6465</th>\n",
       "      <td>472005</td>\n",
       "      <td>178</td>\n",
       "      <td>4</td>\n",
       "      <td>735753</td>\n",
       "      <td>964</td>\n",
       "      <td>1</td>\n",
       "      <td>1</td>\n",
       "      <td>1</td>\n",
       "      <td>0</td>\n",
       "      <td>12155</td>\n",
       "    </tr>\n",
       "    <tr>\n",
       "      <th>...</th>\n",
       "      <td>...</td>\n",
       "      <td>...</td>\n",
       "      <td>...</td>\n",
       "      <td>...</td>\n",
       "      <td>...</td>\n",
       "      <td>...</td>\n",
       "      <td>...</td>\n",
       "      <td>...</td>\n",
       "      <td>...</td>\n",
       "      <td>...</td>\n",
       "    </tr>\n",
       "    <tr>\n",
       "      <th>637520</th>\n",
       "      <td>662068</td>\n",
       "      <td>318</td>\n",
       "      <td>4</td>\n",
       "      <td>735403</td>\n",
       "      <td>755</td>\n",
       "      <td>1</td>\n",
       "      <td>1</td>\n",
       "      <td>1</td>\n",
       "      <td>0</td>\n",
       "      <td>8610</td>\n",
       "    </tr>\n",
       "    <tr>\n",
       "      <th>637629</th>\n",
       "      <td>267455</td>\n",
       "      <td>95</td>\n",
       "      <td>4</td>\n",
       "      <td>735753</td>\n",
       "      <td>884</td>\n",
       "      <td>1</td>\n",
       "      <td>1</td>\n",
       "      <td>1</td>\n",
       "      <td>0</td>\n",
       "      <td>8317</td>\n",
       "    </tr>\n",
       "    <tr>\n",
       "      <th>638583</th>\n",
       "      <td>424509</td>\n",
       "      <td>777</td>\n",
       "      <td>5</td>\n",
       "      <td>735509</td>\n",
       "      <td>190</td>\n",
       "      <td>1</td>\n",
       "      <td>1</td>\n",
       "      <td>1</td>\n",
       "      <td>0</td>\n",
       "      <td>1880</td>\n",
       "    </tr>\n",
       "    <tr>\n",
       "      <th>639009</th>\n",
       "      <td>11063</td>\n",
       "      <td>1074</td>\n",
       "      <td>4</td>\n",
       "      <td>735018</td>\n",
       "      <td>679</td>\n",
       "      <td>1</td>\n",
       "      <td>1</td>\n",
       "      <td>1</td>\n",
       "      <td>0</td>\n",
       "      <td>6758</td>\n",
       "    </tr>\n",
       "    <tr>\n",
       "      <th>639889</th>\n",
       "      <td>430131</td>\n",
       "      <td>769</td>\n",
       "      <td>4</td>\n",
       "      <td>735403</td>\n",
       "      <td>2750</td>\n",
       "      <td>1</td>\n",
       "      <td>1</td>\n",
       "      <td>1</td>\n",
       "      <td>0</td>\n",
       "      <td>12254</td>\n",
       "    </tr>\n",
       "  </tbody>\n",
       "</table>\n",
       "<p>579 rows × 10 columns</p>\n",
       "</div>"
      ],
      "text/plain": [
       "        Unnamed: 0  store_ID  day_of_week    date  nb_customers_on_day  open  \\\n",
       "216          11690       676            3  735234                  946     1   \n",
       "1529        105962       582            1  735393                  493     1   \n",
       "1984        582565       178            4  735018                  962     1   \n",
       "6382        567148       780            4  735753                 1060     1   \n",
       "6465        472005       178            4  735753                  964     1   \n",
       "...            ...       ...          ...     ...                  ...   ...   \n",
       "637520      662068       318            4  735403                  755     1   \n",
       "637629      267455        95            4  735753                  884     1   \n",
       "638583      424509       777            5  735509                  190     1   \n",
       "639009       11063      1074            4  735018                  679     1   \n",
       "639889      430131       769            4  735403                 2750     1   \n",
       "\n",
       "        promotion  state_holiday  school_holiday  sales  \n",
       "216             0              1               1   5755  \n",
       "1529            0              1               0   2146  \n",
       "1984            1              1               0  10796  \n",
       "6382            1              1               0   8646  \n",
       "6465            1              1               0  12155  \n",
       "...           ...            ...             ...    ...  \n",
       "637520          1              1               0   8610  \n",
       "637629          1              1               0   8317  \n",
       "638583          1              1               0   1880  \n",
       "639009          1              1               0   6758  \n",
       "639889          1              1               0  12254  \n",
       "\n",
       "[579 rows x 10 columns]"
      ]
     },
     "execution_count": 90,
     "metadata": {},
     "output_type": "execute_result"
    }
   ],
   "source": [
    "#check if there is a case where the store is open but there is state holiday.\n",
    "stores[(stores['state_holiday']==1) & (stores['open']==1)]"
   ]
  },
  {
   "cell_type": "code",
   "execution_count": 91,
   "metadata": {},
   "outputs": [
    {
     "data": {
      "text/plain": [
       "Unnamed: 0             int64\n",
       "store_ID               int64\n",
       "day_of_week            int64\n",
       "date                   int64\n",
       "nb_customers_on_day    int64\n",
       "open                   int64\n",
       "promotion              int64\n",
       "state_holiday          int64\n",
       "school_holiday         int64\n",
       "sales                  int64\n",
       "dtype: object"
      ]
     },
     "execution_count": 91,
     "metadata": {},
     "output_type": "execute_result"
    }
   ],
   "source": [
    "# re-assessing dtypes\n",
    "stores.dtypes"
   ]
  },
  {
   "cell_type": "markdown",
   "metadata": {},
   "source": [
    "# 3. Splitting the data\n"
   ]
  },
  {
   "cell_type": "markdown",
   "metadata": {},
   "source": [
    "#### Notes: \n",
    "\n",
    "We tested other ways of manipulating the data, and other models like linnear regression and KNN with optimized parameters but were getting very low scores\n",
    "Therefore, we decided to start over on a different approach of manipulating the data (ABOVE)\n",
    "And we didn't really have time to do all the models again, so we stuck with Decision tree an on.\n"
   ]
  },
  {
   "cell_type": "code",
   "execution_count": 92,
   "metadata": {},
   "outputs": [
    {
     "data": {
      "text/html": [
       "<div>\n",
       "<style scoped>\n",
       "    .dataframe tbody tr th:only-of-type {\n",
       "        vertical-align: middle;\n",
       "    }\n",
       "\n",
       "    .dataframe tbody tr th {\n",
       "        vertical-align: top;\n",
       "    }\n",
       "\n",
       "    .dataframe thead th {\n",
       "        text-align: right;\n",
       "    }\n",
       "</style>\n",
       "<table border=\"1\" class=\"dataframe\">\n",
       "  <thead>\n",
       "    <tr style=\"text-align: right;\">\n",
       "      <th></th>\n",
       "      <th>store_ID</th>\n",
       "      <th>day_of_week</th>\n",
       "      <th>date</th>\n",
       "      <th>nb_customers_on_day</th>\n",
       "      <th>open</th>\n",
       "      <th>promotion</th>\n",
       "      <th>state_holiday</th>\n",
       "      <th>school_holiday</th>\n",
       "      <th>sales</th>\n",
       "    </tr>\n",
       "  </thead>\n",
       "  <tbody>\n",
       "    <tr>\n",
       "      <th>0</th>\n",
       "      <td>366</td>\n",
       "      <td>4</td>\n",
       "      <td>734976</td>\n",
       "      <td>517</td>\n",
       "      <td>1</td>\n",
       "      <td>0</td>\n",
       "      <td>0</td>\n",
       "      <td>0</td>\n",
       "      <td>4422</td>\n",
       "    </tr>\n",
       "    <tr>\n",
       "      <th>1</th>\n",
       "      <td>394</td>\n",
       "      <td>6</td>\n",
       "      <td>735699</td>\n",
       "      <td>694</td>\n",
       "      <td>1</td>\n",
       "      <td>0</td>\n",
       "      <td>0</td>\n",
       "      <td>0</td>\n",
       "      <td>8297</td>\n",
       "    </tr>\n",
       "    <tr>\n",
       "      <th>2</th>\n",
       "      <td>807</td>\n",
       "      <td>4</td>\n",
       "      <td>735109</td>\n",
       "      <td>970</td>\n",
       "      <td>1</td>\n",
       "      <td>1</td>\n",
       "      <td>0</td>\n",
       "      <td>0</td>\n",
       "      <td>9729</td>\n",
       "    </tr>\n",
       "    <tr>\n",
       "      <th>3</th>\n",
       "      <td>802</td>\n",
       "      <td>2</td>\n",
       "      <td>735016</td>\n",
       "      <td>473</td>\n",
       "      <td>1</td>\n",
       "      <td>1</td>\n",
       "      <td>0</td>\n",
       "      <td>0</td>\n",
       "      <td>6513</td>\n",
       "    </tr>\n",
       "    <tr>\n",
       "      <th>4</th>\n",
       "      <td>726</td>\n",
       "      <td>4</td>\n",
       "      <td>735151</td>\n",
       "      <td>1068</td>\n",
       "      <td>1</td>\n",
       "      <td>1</td>\n",
       "      <td>0</td>\n",
       "      <td>0</td>\n",
       "      <td>10882</td>\n",
       "    </tr>\n",
       "  </tbody>\n",
       "</table>\n",
       "</div>"
      ],
      "text/plain": [
       "   store_ID  day_of_week    date  nb_customers_on_day  open  promotion  \\\n",
       "0       366            4  734976                  517     1          0   \n",
       "1       394            6  735699                  694     1          0   \n",
       "2       807            4  735109                  970     1          1   \n",
       "3       802            2  735016                  473     1          1   \n",
       "4       726            4  735151                 1068     1          1   \n",
       "\n",
       "   state_holiday  school_holiday  sales  \n",
       "0              0               0   4422  \n",
       "1              0               0   8297  \n",
       "2              0               0   9729  \n",
       "3              0               0   6513  \n",
       "4              0               0  10882  "
      ]
     },
     "execution_count": 92,
     "metadata": {},
     "output_type": "execute_result"
    }
   ],
   "source": [
    "# since we have established that for store closed, sales are always 0, we will skip predicting those\n",
    "\n",
    "stores_open = stores[stores['open']==1]\n",
    "stores_open = stores_open.drop(columns='Unnamed: 0')\n",
    "stores_open.head()"
   ]
  },
  {
   "cell_type": "code",
   "execution_count": 93,
   "metadata": {},
   "outputs": [],
   "source": [
    "X_open = stores_open.drop(columns=['sales'])\n",
    "y_open= stores_open['sales']"
   ]
  },
  {
   "cell_type": "code",
   "execution_count": 94,
   "metadata": {},
   "outputs": [],
   "source": [
    "# Split the baseline dataset\n",
    "X_train_open, X_test_open, y_train_open, y_test_open = train_test_split(X_open, y_open, test_size=0.2, random_state=42)\n"
   ]
  },
  {
   "cell_type": "markdown",
   "metadata": {},
   "source": [
    "## * Decision Tree "
   ]
  },
  {
   "cell_type": "code",
   "execution_count": 95,
   "metadata": {},
   "outputs": [
    {
     "name": "stdout",
     "output_type": "stream",
     "text": [
      "Baseline Model - MSE: 1768388.5587008006, R^2: 0.8160326897674801\n"
     ]
    }
   ],
   "source": [
    "# Initialize the Decision Tree Regressor\n",
    "dt_regressor_open = DecisionTreeRegressor(random_state=42)\n",
    "\n",
    "# Train on baseline dataset\n",
    "dt_regressor_open.fit(X_train_open, y_train_open)\n",
    "y_pred_open = dt_regressor_open.predict(X_test_open)\n",
    "\n",
    "# Evaluate the baseline model\n",
    "mse_open = mean_squared_error(y_test_open, y_pred_open)\n",
    "r2_open = r2_score(y_test_open, y_pred_open)\n",
    "\n",
    "print(f\"Baseline Model - MSE: {mse_open}, R^2: {r2_open}\")\n"
   ]
  },
  {
   "cell_type": "code",
   "execution_count": null,
   "metadata": {},
   "outputs": [],
   "source": [
    "# the metrics are good but we are greedy and want to get better"
   ]
  },
  {
   "cell_type": "markdown",
   "metadata": {},
   "source": [
    "#### - Finding the Optimal Tree Depth"
   ]
  },
  {
   "cell_type": "code",
   "execution_count": 96,
   "metadata": {},
   "outputs": [
    {
     "data": {
      "image/png": "[encoded data removed]",
      "text/plain": [
       "<Figure size 1200x600 with 2 Axes>"
      ]
     },
     "metadata": {},
     "output_type": "display_data"
    },
    {
     "name": "stdout",
     "output_type": "stream",
     "text": [
      "Optimal tree depth: 18\n"
     ]
    }
   ],
   "source": [
    "# Lists to store performance metrics\n",
    "depths = range(1, 21)  # Testing tree depths from 1 to 20\n",
    "mse_values = []\n",
    "r2_values = []\n",
    "\n",
    "for depth in depths:\n",
    "    # Initialize the Decision Tree Regressor with the current depth\n",
    "    dt_regressor = DecisionTreeRegressor(max_depth=depth, random_state=42)\n",
    "    \n",
    "    # Train the model\n",
    "    dt_regressor.fit(X_train_open, y_train_open)\n",
    "    \n",
    "    # Predict on the test set\n",
    "    y_pred = dt_regressor.predict(X_test_open)\n",
    "    \n",
    "    # Calculate MSE and R^2\n",
    "    mse = mean_squared_error(y_test_open, y_pred)\n",
    "    r2 = r2_score(y_test_open, y_pred)\n",
    "    \n",
    "    # Store the results\n",
    "    mse_values.append(mse)\n",
    "    r2_values.append(r2)\n",
    "\n",
    "# Plotting the results to find the optimal depth visually\n",
    "plt.figure(figsize=(12, 6))\n",
    "\n",
    "# Plot MSE values\n",
    "plt.subplot(1, 2, 1)\n",
    "plt.plot(depths, mse_values, marker='o')\n",
    "plt.title('MSE vs. Tree Depth')\n",
    "plt.xlabel('Tree Depth')\n",
    "plt.ylabel('Mean Squared Error')\n",
    "\n",
    "# Plot R^2 values\n",
    "plt.subplot(1, 2, 2)\n",
    "plt.plot(depths, r2_values, marker='o')\n",
    "plt.title('R^2 vs. Tree Depth')\n",
    "plt.xlabel('Tree Depth')\n",
    "plt.ylabel('R^2 Score')\n",
    "\n",
    "plt.tight_layout()\n",
    "plt.show()\n",
    "\n",
    "# Find the depth with the minimum MSE\n",
    "optimal_depth = depths[mse_values.index(min(mse_values))]\n",
    "print(f\"Optimal tree depth: {optimal_depth}\")"
   ]
  },
  {
   "cell_type": "code",
   "execution_count": 99,
   "metadata": {},
   "outputs": [
    {
     "ename": "KeyboardInterrupt",
     "evalue": "",
     "output_type": "error",
     "traceback": [
      "\u001b[1;31m---------------------------------------------------------------------------\u001b[0m",
      "\u001b[1;31mKeyboardInterrupt\u001b[0m                         Traceback (most recent call last)",
      "Cell \u001b[1;32mIn[99], line 19\u001b[0m\n\u001b[0;32m     16\u001b[0m rf_model\u001b[38;5;241m.\u001b[39mfit(X_train_open, y_train_open)\n\u001b[0;32m     18\u001b[0m \u001b[38;5;66;03m# Predict on the test set\u001b[39;00m\n\u001b[1;32m---> 19\u001b[0m y_pred_rf \u001b[38;5;241m=\u001b[39m \u001b[43mrf_model\u001b[49m\u001b[38;5;241;43m.\u001b[39;49m\u001b[43mpredict\u001b[49m\u001b[43m(\u001b[49m\u001b[43mX_test_open\u001b[49m\u001b[43m)\u001b[49m\n\u001b[0;32m     21\u001b[0m \u001b[38;5;66;03m# Calculate MSE and R^2\u001b[39;00m\n\u001b[0;32m     22\u001b[0m mse \u001b[38;5;241m=\u001b[39m mean_squared_error(y_test_open, y_pred_rf)\n",
      "File \u001b[1;32mc:\\Users\\guada\\OneDrive\\Documents\\Ironhack\\week18\\day03\\ironkaggle\\Lib\\site-packages\\sklearn\\ensemble\\_forest.py:1076\u001b[0m, in \u001b[0;36mForestRegressor.predict\u001b[1;34m(self, X)\u001b[0m\n\u001b[0;32m   1074\u001b[0m \u001b[38;5;66;03m# Parallel loop\u001b[39;00m\n\u001b[0;32m   1075\u001b[0m lock \u001b[38;5;241m=\u001b[39m threading\u001b[38;5;241m.\u001b[39mLock()\n\u001b[1;32m-> 1076\u001b[0m \u001b[43mParallel\u001b[49m\u001b[43m(\u001b[49m\u001b[43mn_jobs\u001b[49m\u001b[38;5;241;43m=\u001b[39;49m\u001b[43mn_jobs\u001b[49m\u001b[43m,\u001b[49m\u001b[43m \u001b[49m\u001b[43mverbose\u001b[49m\u001b[38;5;241;43m=\u001b[39;49m\u001b[38;5;28;43mself\u001b[39;49m\u001b[38;5;241;43m.\u001b[39;49m\u001b[43mverbose\u001b[49m\u001b[43m,\u001b[49m\u001b[43m \u001b[49m\u001b[43mrequire\u001b[49m\u001b[38;5;241;43m=\u001b[39;49m\u001b[38;5;124;43m\"\u001b[39;49m\u001b[38;5;124;43msharedmem\u001b[39;49m\u001b[38;5;124;43m\"\u001b[39;49m\u001b[43m)\u001b[49m\u001b[43m(\u001b[49m\n\u001b[0;32m   1077\u001b[0m \u001b[43m    \u001b[49m\u001b[43mdelayed\u001b[49m\u001b[43m(\u001b[49m\u001b[43m_accumulate_prediction\u001b[49m\u001b[43m)\u001b[49m\u001b[43m(\u001b[49m\u001b[43me\u001b[49m\u001b[38;5;241;43m.\u001b[39;49m\u001b[43mpredict\u001b[49m\u001b[43m,\u001b[49m\u001b[43m \u001b[49m\u001b[43mX\u001b[49m\u001b[43m,\u001b[49m\u001b[43m \u001b[49m\u001b[43m[\u001b[49m\u001b[43my_hat\u001b[49m\u001b[43m]\u001b[49m\u001b[43m,\u001b[49m\u001b[43m \u001b[49m\u001b[43mlock\u001b[49m\u001b[43m)\u001b[49m\n\u001b[0;32m   1078\u001b[0m \u001b[43m    \u001b[49m\u001b[38;5;28;43;01mfor\u001b[39;49;00m\u001b[43m \u001b[49m\u001b[43me\u001b[49m\u001b[43m \u001b[49m\u001b[38;5;129;43;01min\u001b[39;49;00m\u001b[43m \u001b[49m\u001b[38;5;28;43mself\u001b[39;49m\u001b[38;5;241;43m.\u001b[39;49m\u001b[43mestimators_\u001b[49m\n\u001b[0;32m   1079\u001b[0m \u001b[43m\u001b[49m\u001b[43m)\u001b[49m\n\u001b[0;32m   1081\u001b[0m y_hat \u001b[38;5;241m/\u001b[39m\u001b[38;5;241m=\u001b[39m \u001b[38;5;28mlen\u001b[39m(\u001b[38;5;28mself\u001b[39m\u001b[38;5;241m.\u001b[39mestimators_)\n\u001b[0;32m   1083\u001b[0m \u001b[38;5;28;01mreturn\u001b[39;00m y_hat\n",
      "File \u001b[1;32mc:\\Users\\guada\\OneDrive\\Documents\\Ironhack\\week18\\day03\\ironkaggle\\Lib\\site-packages\\sklearn\\utils\\parallel.py:74\u001b[0m, in \u001b[0;36mParallel.__call__\u001b[1;34m(self, iterable)\u001b[0m\n\u001b[0;32m     69\u001b[0m config \u001b[38;5;241m=\u001b[39m get_config()\n\u001b[0;32m     70\u001b[0m iterable_with_config \u001b[38;5;241m=\u001b[39m (\n\u001b[0;32m     71\u001b[0m     (_with_config(delayed_func, config), args, kwargs)\n\u001b[0;32m     72\u001b[0m     \u001b[38;5;28;01mfor\u001b[39;00m delayed_func, args, kwargs \u001b[38;5;129;01min\u001b[39;00m iterable\n\u001b[0;32m     73\u001b[0m )\n\u001b[1;32m---> 74\u001b[0m \u001b[38;5;28;01mreturn\u001b[39;00m \u001b[38;5;28;43msuper\u001b[39;49m\u001b[43m(\u001b[49m\u001b[43m)\u001b[49m\u001b[38;5;241;43m.\u001b[39;49m\u001b[38;5;21;43m__call__\u001b[39;49m\u001b[43m(\u001b[49m\u001b[43miterable_with_config\u001b[49m\u001b[43m)\u001b[49m\n",
      "File \u001b[1;32mc:\\Users\\guada\\OneDrive\\Documents\\Ironhack\\week18\\day03\\ironkaggle\\Lib\\site-packages\\joblib\\parallel.py:1918\u001b[0m, in \u001b[0;36mParallel.__call__\u001b[1;34m(self, iterable)\u001b[0m\n\u001b[0;32m   1916\u001b[0m     output \u001b[38;5;241m=\u001b[39m \u001b[38;5;28mself\u001b[39m\u001b[38;5;241m.\u001b[39m_get_sequential_output(iterable)\n\u001b[0;32m   1917\u001b[0m     \u001b[38;5;28mnext\u001b[39m(output)\n\u001b[1;32m-> 1918\u001b[0m     \u001b[38;5;28;01mreturn\u001b[39;00m output \u001b[38;5;28;01mif\u001b[39;00m \u001b[38;5;28mself\u001b[39m\u001b[38;5;241m.\u001b[39mreturn_generator \u001b[38;5;28;01melse\u001b[39;00m \u001b[38;5;28mlist\u001b[39m(output)\n\u001b[0;32m   1920\u001b[0m \u001b[38;5;66;03m# Let's create an ID that uniquely identifies the current call. If the\u001b[39;00m\n\u001b[0;32m   1921\u001b[0m \u001b[38;5;66;03m# call is interrupted early and that the same instance is immediately\u001b[39;00m\n\u001b[0;32m   1922\u001b[0m \u001b[38;5;66;03m# re-used, this id will be used to prevent workers that were\u001b[39;00m\n\u001b[0;32m   1923\u001b[0m \u001b[38;5;66;03m# concurrently finalizing a task from the previous call to run the\u001b[39;00m\n\u001b[0;32m   1924\u001b[0m \u001b[38;5;66;03m# callback.\u001b[39;00m\n\u001b[0;32m   1925\u001b[0m \u001b[38;5;28;01mwith\u001b[39;00m \u001b[38;5;28mself\u001b[39m\u001b[38;5;241m.\u001b[39m_lock:\n",
      "File \u001b[1;32mc:\\Users\\guada\\OneDrive\\Documents\\Ironhack\\week18\\day03\\ironkaggle\\Lib\\site-packages\\joblib\\parallel.py:1847\u001b[0m, in \u001b[0;36mParallel._get_sequential_output\u001b[1;34m(self, iterable)\u001b[0m\n\u001b[0;32m   1845\u001b[0m \u001b[38;5;28mself\u001b[39m\u001b[38;5;241m.\u001b[39mn_dispatched_batches \u001b[38;5;241m+\u001b[39m\u001b[38;5;241m=\u001b[39m \u001b[38;5;241m1\u001b[39m\n\u001b[0;32m   1846\u001b[0m \u001b[38;5;28mself\u001b[39m\u001b[38;5;241m.\u001b[39mn_dispatched_tasks \u001b[38;5;241m+\u001b[39m\u001b[38;5;241m=\u001b[39m \u001b[38;5;241m1\u001b[39m\n\u001b[1;32m-> 1847\u001b[0m res \u001b[38;5;241m=\u001b[39m \u001b[43mfunc\u001b[49m\u001b[43m(\u001b[49m\u001b[38;5;241;43m*\u001b[39;49m\u001b[43margs\u001b[49m\u001b[43m,\u001b[49m\u001b[43m \u001b[49m\u001b[38;5;241;43m*\u001b[39;49m\u001b[38;5;241;43m*\u001b[39;49m\u001b[43mkwargs\u001b[49m\u001b[43m)\u001b[49m\n\u001b[0;32m   1848\u001b[0m \u001b[38;5;28mself\u001b[39m\u001b[38;5;241m.\u001b[39mn_completed_tasks \u001b[38;5;241m+\u001b[39m\u001b[38;5;241m=\u001b[39m \u001b[38;5;241m1\u001b[39m\n\u001b[0;32m   1849\u001b[0m \u001b[38;5;28mself\u001b[39m\u001b[38;5;241m.\u001b[39mprint_progress()\n",
      "File \u001b[1;32mc:\\Users\\guada\\OneDrive\\Documents\\Ironhack\\week18\\day03\\ironkaggle\\Lib\\site-packages\\sklearn\\utils\\parallel.py:136\u001b[0m, in \u001b[0;36m_FuncWrapper.__call__\u001b[1;34m(self, *args, **kwargs)\u001b[0m\n\u001b[0;32m    134\u001b[0m     config \u001b[38;5;241m=\u001b[39m {}\n\u001b[0;32m    135\u001b[0m \u001b[38;5;28;01mwith\u001b[39;00m config_context(\u001b[38;5;241m*\u001b[39m\u001b[38;5;241m*\u001b[39mconfig):\n\u001b[1;32m--> 136\u001b[0m     \u001b[38;5;28;01mreturn\u001b[39;00m \u001b[38;5;28;43mself\u001b[39;49m\u001b[38;5;241;43m.\u001b[39;49m\u001b[43mfunction\u001b[49m\u001b[43m(\u001b[49m\u001b[38;5;241;43m*\u001b[39;49m\u001b[43margs\u001b[49m\u001b[43m,\u001b[49m\u001b[43m \u001b[49m\u001b[38;5;241;43m*\u001b[39;49m\u001b[38;5;241;43m*\u001b[39;49m\u001b[43mkwargs\u001b[49m\u001b[43m)\u001b[49m\n",
      "File \u001b[1;32mc:\\Users\\guada\\OneDrive\\Documents\\Ironhack\\week18\\day03\\ironkaggle\\Lib\\site-packages\\sklearn\\ensemble\\_forest.py:731\u001b[0m, in \u001b[0;36m_accumulate_prediction\u001b[1;34m(predict, X, out, lock)\u001b[0m\n\u001b[0;32m    724\u001b[0m \u001b[38;5;28;01mdef\u001b[39;00m \u001b[38;5;21m_accumulate_prediction\u001b[39m(predict, X, out, lock):\n\u001b[0;32m    725\u001b[0m \u001b[38;5;250m    \u001b[39m\u001b[38;5;124;03m\"\"\"\u001b[39;00m\n\u001b[0;32m    726\u001b[0m \u001b[38;5;124;03m    This is a utility function for joblib's Parallel.\u001b[39;00m\n\u001b[0;32m    727\u001b[0m \n\u001b[0;32m    728\u001b[0m \u001b[38;5;124;03m    It can't go locally in ForestClassifier or ForestRegressor, because joblib\u001b[39;00m\n\u001b[0;32m    729\u001b[0m \u001b[38;5;124;03m    complains that it cannot pickle it when placed there.\u001b[39;00m\n\u001b[0;32m    730\u001b[0m \u001b[38;5;124;03m    \"\"\"\u001b[39;00m\n\u001b[1;32m--> 731\u001b[0m     prediction \u001b[38;5;241m=\u001b[39m \u001b[43mpredict\u001b[49m\u001b[43m(\u001b[49m\u001b[43mX\u001b[49m\u001b[43m,\u001b[49m\u001b[43m \u001b[49m\u001b[43mcheck_input\u001b[49m\u001b[38;5;241;43m=\u001b[39;49m\u001b[38;5;28;43;01mFalse\u001b[39;49;00m\u001b[43m)\u001b[49m\n\u001b[0;32m    732\u001b[0m     \u001b[38;5;28;01mwith\u001b[39;00m lock:\n\u001b[0;32m    733\u001b[0m         \u001b[38;5;28;01mif\u001b[39;00m \u001b[38;5;28mlen\u001b[39m(out) \u001b[38;5;241m==\u001b[39m \u001b[38;5;241m1\u001b[39m:\n",
      "File \u001b[1;32mc:\\Users\\guada\\OneDrive\\Documents\\Ironhack\\week18\\day03\\ironkaggle\\Lib\\site-packages\\sklearn\\tree\\_classes.py:530\u001b[0m, in \u001b[0;36mBaseDecisionTree.predict\u001b[1;34m(self, X, check_input)\u001b[0m\n\u001b[0;32m    528\u001b[0m check_is_fitted(\u001b[38;5;28mself\u001b[39m)\n\u001b[0;32m    529\u001b[0m X \u001b[38;5;241m=\u001b[39m \u001b[38;5;28mself\u001b[39m\u001b[38;5;241m.\u001b[39m_validate_X_predict(X, check_input)\n\u001b[1;32m--> 530\u001b[0m proba \u001b[38;5;241m=\u001b[39m \u001b[38;5;28;43mself\u001b[39;49m\u001b[38;5;241;43m.\u001b[39;49m\u001b[43mtree_\u001b[49m\u001b[38;5;241;43m.\u001b[39;49m\u001b[43mpredict\u001b[49m\u001b[43m(\u001b[49m\u001b[43mX\u001b[49m\u001b[43m)\u001b[49m\n\u001b[0;32m    531\u001b[0m n_samples \u001b[38;5;241m=\u001b[39m X\u001b[38;5;241m.\u001b[39mshape[\u001b[38;5;241m0\u001b[39m]\n\u001b[0;32m    533\u001b[0m \u001b[38;5;66;03m# Classification\u001b[39;00m\n",
      "\u001b[1;31mKeyboardInterrupt\u001b[0m: "
     ]
    }
   ],
   "source": [
    "# optimal estimators\n",
    "\n",
    "# Define a range of n_estimators to test\n",
    "n_estimators_range = range(10, 201, 10)  # From 10 to 200, in steps of 10\n",
    "\n",
    "\n",
    "# Lists to store performance metrics\n",
    "mse_values = []\n",
    "r2_values = []\n",
    "\n",
    "for n in n_estimators_values:\n",
    "    # Initialize the Random Forest Regressor with the current n_estimators and optimal depth\n",
    "    rf_model = RandomForestRegressor(n_estimators=n, max_depth=optimal_depth, random_state=42)\n",
    "    \n",
    "    # Train the model\n",
    "    rf_model.fit(X_train_open, y_train_open)\n",
    "    \n",
    "    # Predict on the test set\n",
    "    y_pred_rf = rf_model.predict(X_test_open)\n",
    "    \n",
    "    # Calculate MSE and R^2\n",
    "    mse = mean_squared_error(y_test_open, y_pred_rf)\n",
    "    r2 = r2_score(y_test_open, y_pred_rf)\n",
    "    \n",
    "    # Store the results\n",
    "    mse_values.append(mse)\n",
    "    r2_values.append(r2)\n",
    "\n",
    "# Plotting the results to find the optimal n_estimators visually\n",
    "plt.figure(figsize=(10, 5))\n",
    "plt.plot(n_estimators_values, mse_values, marker='o')\n",
    "plt.title('MSE vs. Number of Estimators')\n",
    "plt.xlabel('Number of Estimators')\n",
    "plt.ylabel('Mean Squared Error')\n",
    "plt.show()\n",
    "\n",
    "# Find the optimal number of estimators based on the lowest MSE\n",
    "optimal_n_estimators = n_estimators_values[mse_values.index(min(mse_values))]\n",
    "print(f\"Optimal number of estimators: {optimal_n_estimators}\")"
   ]
  },
  {
   "cell_type": "code",
   "execution_count": 109,
   "metadata": {},
   "outputs": [],
   "source": [
    "# Above we tried to calculate the optimal n_estimators value but the code takes very long to run so, after a few tests, we set it at 200"
   ]
  },
  {
   "cell_type": "markdown",
   "metadata": {},
   "source": [
    "## Random Forest"
   ]
  },
  {
   "cell_type": "code",
   "execution_count": 110,
   "metadata": {},
   "outputs": [
    {
     "name": "stdout",
     "output_type": "stream",
     "text": [
      "Optimized Random Forest Model - MSE: 1143425.4131805939, R^2: 0.881048259060846\n"
     ]
    }
   ],
   "source": [
    "# Train the final Random Forest model with the optimal depth and number of estimators\n",
    "rf_model_optimal = RandomForestRegressor(n_estimators=200, max_depth=optimal_depth, random_state=42)\n",
    "rf_model_optimal.fit(X_train_open, y_train_open)\n",
    "y_pred_rf_optimal = rf_model_optimal.predict(X_test_open)\n",
    "\n",
    "# Evaluate the optimized Random Forest model\n",
    "rf_optimal_mse = mean_squared_error(y_test_open, y_pred_rf_optimal)\n",
    "rf_optimal_r2 = r2_score(y_test_open, y_pred_rf_optimal)\n",
    "\n",
    "print(f\"Optimized Random Forest Model - MSE: {rf_optimal_mse}, R^2: {rf_optimal_r2}\")"
   ]
  },
  {
   "cell_type": "code",
   "execution_count": null,
   "metadata": {},
   "outputs": [],
   "source": [
    "# we are confident we can go even better than this"
   ]
  },
  {
   "cell_type": "markdown",
   "metadata": {},
   "source": [
    "## Gradient Boost"
   ]
  },
  {
   "cell_type": "code",
   "execution_count": 111,
   "metadata": {},
   "outputs": [
    {
     "name": "stdout",
     "output_type": "stream",
     "text": [
      "Gradient Boosting Model - MSE: 539338.0137793832, R^2: 0.9438921026643385\n"
     ]
    }
   ],
   "source": [
    "# Initialize the Gradient Boosting Regressor with the optimal parameters\n",
    "gboost_model = GradientBoostingRegressor(n_estimators=200, max_depth=18, random_state=42)\n",
    "gboost_model.fit(X_train_open, y_train_open)\n",
    "\n",
    "# Predict on the test set\n",
    "y_pred_gboost = gboost_model.predict(X_test_open)\n",
    "\n",
    "# Evaluate the Gradient Boosting model\n",
    "gboost_mse = mean_squared_error(y_test_open, y_pred_gboost)\n",
    "gboost_r2 = r2_score(y_test_open, y_pred_gboost)\n",
    "\n",
    "print(f\"Gradient Boosting Model - MSE: {gboost_mse}, R^2: {gboost_r2}\")"
   ]
  },
  {
   "cell_type": "code",
   "execution_count": 112,
   "metadata": {},
   "outputs": [],
   "source": [
    "# These metrics are really awesome, we will just see if they can or not be improved"
   ]
  },
  {
   "cell_type": "markdown",
   "metadata": {},
   "source": [
    "## XGBoost"
   ]
  },
  {
   "cell_type": "code",
   "execution_count": 113,
   "metadata": {},
   "outputs": [
    {
     "name": "stdout",
     "output_type": "stream",
     "text": [
      "XGBoost Model - MSE: 1235073.5561927594, R^2: 0.8715140223503113\n"
     ]
    }
   ],
   "source": [
    "# Initialize the XGBoost Regressor with the optimal parameters\n",
    "xgboost_model = xgb.XGBRegressor(n_estimators=200, max_depth=optimal_depth, random_state=42)\n",
    "xgboost_model.fit(X_train_open, y_train_open)\n",
    "\n",
    "# Predict on the test set\n",
    "y_pred_xgboost = xgboost_model.predict(X_test_open)\n",
    "\n",
    "# Evaluate the XGBoost model\n",
    "xgboost_mse = mean_squared_error(y_test_open, y_pred_xgboost)\n",
    "xgboost_r2 = r2_score(y_test_open, y_pred_xgboost)\n",
    "\n",
    "print(f\"XGBoost Model - MSE: {xgboost_mse}, R^2: {xgboost_r2}\")"
   ]
  },
  {
   "cell_type": "code",
   "execution_count": null,
   "metadata": {},
   "outputs": [],
   "source": [
    "# no real improvments so we will use our gboost_model"
   ]
  },
  {
   "cell_type": "markdown",
   "metadata": {},
   "source": [
    "# VALIDATIONS"
   ]
  },
  {
   "cell_type": "markdown",
   "metadata": {},
   "source": [
    "### Load and explore the validations data"
   ]
  },
  {
   "cell_type": "code",
   "execution_count": 114,
   "metadata": {},
   "outputs": [],
   "source": [
    "validations = pd.read_csv(r'C:\\Users\\guada\\OneDrive\\Documents\\Ironhack\\week18\\day03\\validation_for students.csv')"
   ]
  },
  {
   "cell_type": "code",
   "execution_count": 115,
   "metadata": {},
   "outputs": [
    {
     "data": {
      "text/html": [
       "<div>\n",
       "<style scoped>\n",
       "    .dataframe tbody tr th:only-of-type {\n",
       "        vertical-align: middle;\n",
       "    }\n",
       "\n",
       "    .dataframe tbody tr th {\n",
       "        vertical-align: top;\n",
       "    }\n",
       "\n",
       "    .dataframe thead th {\n",
       "        text-align: right;\n",
       "    }\n",
       "</style>\n",
       "<table border=\"1\" class=\"dataframe\">\n",
       "  <thead>\n",
       "    <tr style=\"text-align: right;\">\n",
       "      <th></th>\n",
       "      <th>index</th>\n",
       "      <th>store_ID</th>\n",
       "      <th>day_of_week</th>\n",
       "      <th>date</th>\n",
       "      <th>nb_customers_on_day</th>\n",
       "      <th>open</th>\n",
       "      <th>promotion</th>\n",
       "      <th>state_holiday</th>\n",
       "      <th>school_holiday</th>\n",
       "    </tr>\n",
       "  </thead>\n",
       "  <tbody>\n",
       "    <tr>\n",
       "      <th>0</th>\n",
       "      <td>272371</td>\n",
       "      <td>415</td>\n",
       "      <td>7</td>\n",
       "      <td>01/03/2015</td>\n",
       "      <td>0</td>\n",
       "      <td>0</td>\n",
       "      <td>0</td>\n",
       "      <td>0</td>\n",
       "      <td>0</td>\n",
       "    </tr>\n",
       "    <tr>\n",
       "      <th>1</th>\n",
       "      <td>558468</td>\n",
       "      <td>27</td>\n",
       "      <td>7</td>\n",
       "      <td>29/12/2013</td>\n",
       "      <td>0</td>\n",
       "      <td>0</td>\n",
       "      <td>0</td>\n",
       "      <td>0</td>\n",
       "      <td>0</td>\n",
       "    </tr>\n",
       "    <tr>\n",
       "      <th>2</th>\n",
       "      <td>76950</td>\n",
       "      <td>404</td>\n",
       "      <td>3</td>\n",
       "      <td>19/03/2014</td>\n",
       "      <td>657</td>\n",
       "      <td>1</td>\n",
       "      <td>1</td>\n",
       "      <td>0</td>\n",
       "      <td>0</td>\n",
       "    </tr>\n",
       "    <tr>\n",
       "      <th>3</th>\n",
       "      <td>77556</td>\n",
       "      <td>683</td>\n",
       "      <td>2</td>\n",
       "      <td>29/01/2013</td>\n",
       "      <td>862</td>\n",
       "      <td>1</td>\n",
       "      <td>0</td>\n",
       "      <td>0</td>\n",
       "      <td>0</td>\n",
       "    </tr>\n",
       "    <tr>\n",
       "      <th>4</th>\n",
       "      <td>456344</td>\n",
       "      <td>920</td>\n",
       "      <td>3</td>\n",
       "      <td>19/03/2014</td>\n",
       "      <td>591</td>\n",
       "      <td>1</td>\n",
       "      <td>1</td>\n",
       "      <td>0</td>\n",
       "      <td>0</td>\n",
       "    </tr>\n",
       "  </tbody>\n",
       "</table>\n",
       "</div>"
      ],
      "text/plain": [
       "    index  store_ID  day_of_week        date  nb_customers_on_day  open  \\\n",
       "0  272371       415            7  01/03/2015                    0     0   \n",
       "1  558468        27            7  29/12/2013                    0     0   \n",
       "2   76950       404            3  19/03/2014                  657     1   \n",
       "3   77556       683            2  29/01/2013                  862     1   \n",
       "4  456344       920            3  19/03/2014                  591     1   \n",
       "\n",
       "   promotion state_holiday  school_holiday  \n",
       "0          0             0               0  \n",
       "1          0             0               0  \n",
       "2          1             0               0  \n",
       "3          0             0               0  \n",
       "4          1             0               0  "
      ]
     },
     "execution_count": 115,
     "metadata": {},
     "output_type": "execute_result"
    }
   ],
   "source": [
    "validations.head()"
   ]
  },
  {
   "cell_type": "code",
   "execution_count": 116,
   "metadata": {},
   "outputs": [
    {
     "name": "stdout",
     "output_type": "stream",
     "text": [
      "<class 'pandas.core.frame.DataFrame'>\n",
      "RangeIndex: 71205 entries, 0 to 71204\n",
      "Data columns (total 9 columns):\n",
      " #   Column               Non-Null Count  Dtype \n",
      "---  ------               --------------  ----- \n",
      " 0   index                71205 non-null  int64 \n",
      " 1   store_ID             71205 non-null  int64 \n",
      " 2   day_of_week          71205 non-null  int64 \n",
      " 3   date                 71205 non-null  object\n",
      " 4   nb_customers_on_day  71205 non-null  int64 \n",
      " 5   open                 71205 non-null  int64 \n",
      " 6   promotion            71205 non-null  int64 \n",
      " 7   state_holiday        71205 non-null  object\n",
      " 8   school_holiday       71205 non-null  int64 \n",
      "dtypes: int64(7), object(2)\n",
      "memory usage: 4.9+ MB\n"
     ]
    }
   ],
   "source": [
    "validations.info()"
   ]
  },
  {
   "cell_type": "code",
   "execution_count": 117,
   "metadata": {},
   "outputs": [
    {
     "data": {
      "text/plain": [
       "index                   int64\n",
       "store_ID                int64\n",
       "day_of_week             int64\n",
       "date                   object\n",
       "nb_customers_on_day     int64\n",
       "open                    int64\n",
       "promotion               int64\n",
       "state_holiday          object\n",
       "school_holiday          int64\n",
       "dtype: object"
      ]
     },
     "execution_count": 117,
     "metadata": {},
     "output_type": "execute_result"
    }
   ],
   "source": [
    "validations.dtypes"
   ]
  },
  {
   "cell_type": "code",
   "execution_count": 118,
   "metadata": {},
   "outputs": [
    {
     "data": {
      "text/plain": [
       "index                  0\n",
       "store_ID               0\n",
       "day_of_week            0\n",
       "date                   0\n",
       "nb_customers_on_day    0\n",
       "open                   0\n",
       "promotion              0\n",
       "state_holiday          0\n",
       "school_holiday         0\n",
       "dtype: int64"
      ]
     },
     "execution_count": 118,
     "metadata": {},
     "output_type": "execute_result"
    }
   ],
   "source": [
    "#Check if there is any missing value\n",
    "validations.isna().sum()"
   ]
  },
  {
   "cell_type": "markdown",
   "metadata": {},
   "source": [
    "### Validations cleaning & Feature Engineering"
   ]
  },
  {
   "cell_type": "code",
   "execution_count": 119,
   "metadata": {},
   "outputs": [],
   "source": [
    "validations['date'] = pd.to_datetime(validations['date'], format='%d/%m/%Y') # Convert the 'Date' column values from string to datetime\n",
    "validations['date'] = validations['date'].apply(lambda x: x.toordinal()) # Convert the datetime values to numeric using toordinal()"
   ]
  },
  {
   "cell_type": "code",
   "execution_count": 120,
   "metadata": {},
   "outputs": [
    {
     "name": "stdout",
     "output_type": "stream",
     "text": [
      "Unique values in 'state_holiday':\n"
     ]
    },
    {
     "data": {
      "text/plain": [
       "array(['0', 'a', 'b', 'c'], dtype=object)"
      ]
     },
     "execution_count": 120,
     "metadata": {},
     "output_type": "execute_result"
    }
   ],
   "source": [
    "print(\"Unique values in 'state_holiday':\")\n",
    "validations['state_holiday'].unique()\n"
   ]
  },
  {
   "cell_type": "code",
   "execution_count": 121,
   "metadata": {},
   "outputs": [],
   "source": [
    "#Change dtype of 'state_holiday' column from object to integer\n",
    "mapping = {'0': 0, 'a': 1, 'b': 1, 'c': 1}\n",
    "\n",
    "# Apply the mapping to the 'state_holiday' column\n",
    "validations['state_holiday'] = validations['state_holiday'].map(mapping)"
   ]
  },
  {
   "cell_type": "markdown",
   "metadata": {},
   "source": [
    "## Predicting Validations Sales"
   ]
  },
  {
   "cell_type": "code",
   "execution_count": 122,
   "metadata": {},
   "outputs": [],
   "source": [
    "features_columns = ['store_ID', 'day_of_week', 'date', 'nb_customers_on_day', 'open', 'promotion', 'state_holiday', 'school_holiday']"
   ]
  },
  {
   "cell_type": "code",
   "execution_count": 123,
   "metadata": {},
   "outputs": [],
   "source": [
    "def custom_predict(data, model, features_columns):\n",
    "    # If the store is closed, predict 0 sales\n",
    "    if data['open'] == 0:\n",
    "        return 0\n",
    "    # Otherwise, use the model to predict the sales\n",
    "    else:\n",
    "        # Convert the input data (a Series) to a DataFrame with correct feature names\n",
    "        features_df = pd.DataFrame([data[features_columns].values], columns=features_columns)\n",
    "        return model.predict(features_df)[0]"
   ]
  },
  {
   "cell_type": "code",
   "execution_count": 73,
   "metadata": {},
   "outputs": [],
   "source": [
    "# Apply the custom prediction function to each row of the new dataset\n",
    "validations['predicted_sales'] = validations.apply(lambda x: custom_predict(x, gboost_model, features_columns), axis=1)\n"
   ]
  },
  {
   "cell_type": "code",
   "execution_count": 76,
   "metadata": {},
   "outputs": [
    {
     "data": {
      "text/html": [
       "<div>\n",
       "<style scoped>\n",
       "    .dataframe tbody tr th:only-of-type {\n",
       "        vertical-align: middle;\n",
       "    }\n",
       "\n",
       "    .dataframe tbody tr th {\n",
       "        vertical-align: top;\n",
       "    }\n",
       "\n",
       "    .dataframe thead th {\n",
       "        text-align: right;\n",
       "    }\n",
       "</style>\n",
       "<table border=\"1\" class=\"dataframe\">\n",
       "  <thead>\n",
       "    <tr style=\"text-align: right;\">\n",
       "      <th></th>\n",
       "      <th>index</th>\n",
       "      <th>store_ID</th>\n",
       "      <th>day_of_week</th>\n",
       "      <th>date</th>\n",
       "      <th>nb_customers_on_day</th>\n",
       "      <th>open</th>\n",
       "      <th>promotion</th>\n",
       "      <th>state_holiday</th>\n",
       "      <th>school_holiday</th>\n",
       "      <th>predicted_sales</th>\n",
       "    </tr>\n",
       "  </thead>\n",
       "  <tbody>\n",
       "    <tr>\n",
       "      <th>0</th>\n",
       "      <td>272371</td>\n",
       "      <td>415</td>\n",
       "      <td>7</td>\n",
       "      <td>735658</td>\n",
       "      <td>0</td>\n",
       "      <td>0</td>\n",
       "      <td>0</td>\n",
       "      <td>0</td>\n",
       "      <td>0</td>\n",
       "      <td>0.000000</td>\n",
       "    </tr>\n",
       "    <tr>\n",
       "      <th>1</th>\n",
       "      <td>558468</td>\n",
       "      <td>27</td>\n",
       "      <td>7</td>\n",
       "      <td>735231</td>\n",
       "      <td>0</td>\n",
       "      <td>0</td>\n",
       "      <td>0</td>\n",
       "      <td>0</td>\n",
       "      <td>0</td>\n",
       "      <td>0.000000</td>\n",
       "    </tr>\n",
       "    <tr>\n",
       "      <th>2</th>\n",
       "      <td>76950</td>\n",
       "      <td>404</td>\n",
       "      <td>3</td>\n",
       "      <td>735311</td>\n",
       "      <td>657</td>\n",
       "      <td>1</td>\n",
       "      <td>1</td>\n",
       "      <td>0</td>\n",
       "      <td>0</td>\n",
       "      <td>5948.456396</td>\n",
       "    </tr>\n",
       "    <tr>\n",
       "      <th>3</th>\n",
       "      <td>77556</td>\n",
       "      <td>683</td>\n",
       "      <td>2</td>\n",
       "      <td>734897</td>\n",
       "      <td>862</td>\n",
       "      <td>1</td>\n",
       "      <td>0</td>\n",
       "      <td>0</td>\n",
       "      <td>0</td>\n",
       "      <td>7897.618575</td>\n",
       "    </tr>\n",
       "    <tr>\n",
       "      <th>4</th>\n",
       "      <td>456344</td>\n",
       "      <td>920</td>\n",
       "      <td>3</td>\n",
       "      <td>735311</td>\n",
       "      <td>591</td>\n",
       "      <td>1</td>\n",
       "      <td>1</td>\n",
       "      <td>0</td>\n",
       "      <td>0</td>\n",
       "      <td>6041.462528</td>\n",
       "    </tr>\n",
       "  </tbody>\n",
       "</table>\n",
       "</div>"
      ],
      "text/plain": [
       "    index  store_ID  day_of_week    date  nb_customers_on_day  open  \\\n",
       "0  272371       415            7  735658                    0     0   \n",
       "1  558468        27            7  735231                    0     0   \n",
       "2   76950       404            3  735311                  657     1   \n",
       "3   77556       683            2  734897                  862     1   \n",
       "4  456344       920            3  735311                  591     1   \n",
       "\n",
       "   promotion  state_holiday  school_holiday  predicted_sales  \n",
       "0          0              0               0         0.000000  \n",
       "1          0              0               0         0.000000  \n",
       "2          1              0               0      5948.456396  \n",
       "3          0              0               0      7897.618575  \n",
       "4          1              0               0      6041.462528  "
      ]
     },
     "execution_count": 76,
     "metadata": {},
     "output_type": "execute_result"
    }
   ],
   "source": [
    "validations.head()"
   ]
  },
  {
   "cell_type": "code",
   "execution_count": 78,
   "metadata": {},
   "outputs": [],
   "source": [
    "# Save predicted sales to csv\n",
    "validations[['index', 'predicted_sales']].to_csv('sales_predicted.csv', index=False)"
   ]
  },
  {
   "cell_type": "markdown",
   "metadata": {},
   "source": [
    "## SAVE THE MODEL TO A PICKLE FILE"
   ]
  },
  {
   "cell_type": "code",
   "execution_count": 124,
   "metadata": {},
   "outputs": [],
   "source": [
    "# Save the model to a pickle file\n",
    "with open('gboost_model.pkl', 'wb') as file:\n",
    "    pickle.dump(gboost_model, file)"
   ]
  }
 ],
 "metadata": {
  "kernelspec": {
   "display_name": "ironkaggle",
   "language": "python",
   "name": "python3"
  },
  "language_info": {
   "codemirror_mode": {
    "name": "ipython",
    "version": 3
   },
   "file_extension": ".py",
   "mimetype": "text/x-python",
   "name": "python",
   "nbconvert_exporter": "python",
   "pygments_lexer": "ipython3",
   "version": "3.11.7"
  }
 },
 "nbformat": 4,
 "nbformat_minor": 2
}
